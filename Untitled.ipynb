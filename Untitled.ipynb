{
 "cells": [
  {
   "cell_type": "code",
   "execution_count": 1,
   "metadata": {
    "collapsed": true
   },
   "outputs": [],
   "source": [
    "import pandas as pd"
   ]
  },
  {
   "cell_type": "code",
   "execution_count": 2,
   "metadata": {
    "collapsed": true
   },
   "outputs": [],
   "source": [
    "data = pd.read_csv(\"rwe_point.csv\")"
   ]
  },
  {
   "cell_type": "code",
   "execution_count": 3,
   "metadata": {},
   "outputs": [
    {
     "name": "stdout",
     "output_type": "stream",
     "text": [
      "<class 'pandas.core.frame.DataFrame'>\n",
      "RangeIndex: 368 entries, 0 to 367\n",
      "Data columns (total 30 columns):\n",
      "FID                    368 non-null object\n",
      "rwe_id                 368 non-null int64\n",
      "rwe_type               368 non-null object\n",
      "rwe_closure_type       368 non-null object\n",
      "rwe_status             368 non-null object\n",
      "rwe_start_dt           368 non-null object\n",
      "rwe_end_dt             368 non-null object\n",
      "rwe_publish_text       368 non-null object\n",
      "subject_pref_rdname    368 non-null object\n",
      "start_pref_rdname      365 non-null object\n",
      "end_pref_rdname        264 non-null object\n",
      "lrs_start_locality     367 non-null object\n",
      "lrs_end_locality       265 non-null object\n",
      "lrs_rmaclass           368 non-null object\n",
      "lrs_srns               240 non-null object\n",
      "lrs_lga                368 non-null object\n",
      "lrs_ses_region         368 non-null object\n",
      "lrs_melway             328 non-null object\n",
      "lrs_vcsd               368 non-null object\n",
      "geom                   368 non-null object\n",
      "works_type             368 non-null object\n",
      "traffic_delay          368 non-null object\n",
      "speed_limit            368 non-null int64\n",
      "lanes_affected         368 non-null int64\n",
      "days_applicable        368 non-null object\n",
      "dt_modified            368 non-null object\n",
      "dt_created             368 non-null object\n",
      "rwe_point              368 non-null object\n",
      "timestamp              368 non-null object\n",
      "processed_time         368 non-null object\n",
      "dtypes: int64(3), object(27)\n",
      "memory usage: 86.3+ KB\n"
     ]
    }
   ],
   "source": [
    "data.info()"
   ]
  },
  {
   "cell_type": "code",
   "execution_count": 4,
   "metadata": {},
   "outputs": [
    {
     "data": {
      "text/html": [
       "<div>\n",
       "<style scoped>\n",
       "    .dataframe tbody tr th:only-of-type {\n",
       "        vertical-align: middle;\n",
       "    }\n",
       "\n",
       "    .dataframe tbody tr th {\n",
       "        vertical-align: top;\n",
       "    }\n",
       "\n",
       "    .dataframe thead th {\n",
       "        text-align: right;\n",
       "    }\n",
       "</style>\n",
       "<table border=\"1\" class=\"dataframe\">\n",
       "  <thead>\n",
       "    <tr style=\"text-align: right;\">\n",
       "      <th></th>\n",
       "      <th>FID</th>\n",
       "      <th>rwe_id</th>\n",
       "      <th>rwe_type</th>\n",
       "      <th>rwe_closure_type</th>\n",
       "      <th>rwe_status</th>\n",
       "      <th>rwe_start_dt</th>\n",
       "      <th>rwe_end_dt</th>\n",
       "      <th>rwe_publish_text</th>\n",
       "      <th>subject_pref_rdname</th>\n",
       "      <th>start_pref_rdname</th>\n",
       "      <th>...</th>\n",
       "      <th>works_type</th>\n",
       "      <th>traffic_delay</th>\n",
       "      <th>speed_limit</th>\n",
       "      <th>lanes_affected</th>\n",
       "      <th>days_applicable</th>\n",
       "      <th>dt_modified</th>\n",
       "      <th>dt_created</th>\n",
       "      <th>rwe_point</th>\n",
       "      <th>timestamp</th>\n",
       "      <th>processed_time</th>\n",
       "    </tr>\n",
       "  </thead>\n",
       "  <tbody>\n",
       "    <tr>\n",
       "      <th>0</th>\n",
       "      <td>rwe_point.160371</td>\n",
       "      <td>160371</td>\n",
       "      <td>Road construction</td>\n",
       "      <td>entry/exit ramp closed</td>\n",
       "      <td>Pending</td>\n",
       "      <td>2018-06-28T11:30:00</td>\n",
       "      <td>2018-08-30T19:00:00</td>\n",
       "      <td>Full week including weekends - Sunday to Satur...</td>\n",
       "      <td>BULLA-TULLAMARINE OUT RAMP ON</td>\n",
       "      <td>BULLA-CALDER OUT RAMP ON</td>\n",
       "      <td>...</td>\n",
       "      <td>daily works</td>\n",
       "      <td>0 to 5 min</td>\n",
       "      <td>60</td>\n",
       "      <td>0</td>\n",
       "      <td>1;2;3;4;5;7;6</td>\n",
       "      <td>2018-08-23T03:17:14</td>\n",
       "      <td>2017-04-27T04:26:23</td>\n",
       "      <td>POINT (144.891377840585 -37.7349789489646)</td>\n",
       "      <td>2018-08-23T15:13:28</td>\n",
       "      <td>2018-08-23T15:15:30.772</td>\n",
       "    </tr>\n",
       "    <tr>\n",
       "      <th>1</th>\n",
       "      <td>rwe_point.181403</td>\n",
       "      <td>181403</td>\n",
       "      <td>Road maintenance</td>\n",
       "      <td>road closed</td>\n",
       "      <td>Pending</td>\n",
       "      <td>2018-08-10T10:00:00</td>\n",
       "      <td>2018-09-13T20:00:00</td>\n",
       "      <td>Nightly works between 8:00pm and 6:00am. Roadw...</td>\n",
       "      <td>BALLARAT ROAD</td>\n",
       "      <td>CHURCHILL AVENUE</td>\n",
       "      <td>...</td>\n",
       "      <td>daily works</td>\n",
       "      <td>0 to 5 min</td>\n",
       "      <td>40</td>\n",
       "      <td>0</td>\n",
       "      <td>1;2;3;4;7</td>\n",
       "      <td>2018-08-16T00:07:44</td>\n",
       "      <td>2018-07-12T01:19:37</td>\n",
       "      <td>POINT (144.866962705212 -37.7820986383967)</td>\n",
       "      <td>2018-08-23T15:13:28</td>\n",
       "      <td>2018-08-23T15:15:30.772</td>\n",
       "    </tr>\n",
       "    <tr>\n",
       "      <th>2</th>\n",
       "      <td>rwe_point.165933</td>\n",
       "      <td>165933</td>\n",
       "      <td>Road construction</td>\n",
       "      <td>lanes closed outbound</td>\n",
       "      <td>Pending</td>\n",
       "      <td>2018-08-15T10:00:00</td>\n",
       "      <td>2018-10-12T19:00:00</td>\n",
       "      <td>other daily works from 08:00 PM to 06:00 AM. R...</td>\n",
       "      <td>PRINCES FREEWAY</td>\n",
       "      <td>WEST GATE OUT-WESTERN RING OUT RAMP</td>\n",
       "      <td>...</td>\n",
       "      <td>daily works</td>\n",
       "      <td>0 to 5 min</td>\n",
       "      <td>40</td>\n",
       "      <td>0</td>\n",
       "      <td>1;2;3;4;5;7</td>\n",
       "      <td>2018-08-14T08:01:17</td>\n",
       "      <td>2017-08-24T06:39:56</td>\n",
       "      <td>POINT (144.815778656928 -37.8293203711343)</td>\n",
       "      <td>2018-08-23T15:13:28</td>\n",
       "      <td>2018-08-23T15:15:30.772</td>\n",
       "    </tr>\n",
       "    <tr>\n",
       "      <th>3</th>\n",
       "      <td>rwe_point.160155</td>\n",
       "      <td>160155</td>\n",
       "      <td>Road construction</td>\n",
       "      <td>1 lane closed outbound</td>\n",
       "      <td>Pending</td>\n",
       "      <td>2017-04-19T08:00:00</td>\n",
       "      <td>2018-08-30T23:30:00</td>\n",
       "      <td>Full week including weekends - Sunday to Satur...</td>\n",
       "      <td>PRINCES FREEWAY</td>\n",
       "      <td>PRINCES OUT-CLYDE RAMP OF</td>\n",
       "      <td>...</td>\n",
       "      <td>daily works</td>\n",
       "      <td>0 to 5 min</td>\n",
       "      <td>40</td>\n",
       "      <td>1</td>\n",
       "      <td>1;2;3;4;5;7;6</td>\n",
       "      <td>2018-07-31T07:51:36</td>\n",
       "      <td>2017-04-21T00:10:02</td>\n",
       "      <td>POINT (145.419193781656 -38.0767784375255)</td>\n",
       "      <td>2018-08-23T15:13:28</td>\n",
       "      <td>2018-08-23T15:15:30.772</td>\n",
       "    </tr>\n",
       "    <tr>\n",
       "      <th>4</th>\n",
       "      <td>rwe_point.161253</td>\n",
       "      <td>161253</td>\n",
       "      <td>Road construction</td>\n",
       "      <td>entry/exit ramp closed</td>\n",
       "      <td>Active</td>\n",
       "      <td>2018-08-09T10:00:00</td>\n",
       "      <td>2018-08-30T19:00:00</td>\n",
       "      <td>Full week including weekends - Sunday to Satur...</td>\n",
       "      <td>TULLAMARINE FREEWAY</td>\n",
       "      <td>TERMINAL DRIVE</td>\n",
       "      <td>...</td>\n",
       "      <td>daily works</td>\n",
       "      <td>0 to 5 min</td>\n",
       "      <td>40</td>\n",
       "      <td>0</td>\n",
       "      <td>1;2;3;4;5;7;6</td>\n",
       "      <td>2018-08-23T12:28:55</td>\n",
       "      <td>2017-05-16T23:19:03</td>\n",
       "      <td>POINT (144.856423788626 -37.6732731477206)</td>\n",
       "      <td>2018-08-23T15:13:28</td>\n",
       "      <td>2018-08-23T15:15:30.772</td>\n",
       "    </tr>\n",
       "  </tbody>\n",
       "</table>\n",
       "<p>5 rows × 30 columns</p>\n",
       "</div>"
      ],
      "text/plain": [
       "                FID  rwe_id           rwe_type         rwe_closure_type  \\\n",
       "0  rwe_point.160371  160371  Road construction   entry/exit ramp closed   \n",
       "1  rwe_point.181403  181403   Road maintenance              road closed   \n",
       "2  rwe_point.165933  165933  Road construction    lanes closed outbound   \n",
       "3  rwe_point.160155  160155  Road construction   1 lane closed outbound   \n",
       "4  rwe_point.161253  161253  Road construction   entry/exit ramp closed   \n",
       "\n",
       "  rwe_status         rwe_start_dt           rwe_end_dt  \\\n",
       "0    Pending  2018-06-28T11:30:00  2018-08-30T19:00:00   \n",
       "1    Pending  2018-08-10T10:00:00  2018-09-13T20:00:00   \n",
       "2    Pending  2018-08-15T10:00:00  2018-10-12T19:00:00   \n",
       "3    Pending  2017-04-19T08:00:00  2018-08-30T23:30:00   \n",
       "4     Active  2018-08-09T10:00:00  2018-08-30T19:00:00   \n",
       "\n",
       "                                    rwe_publish_text  \\\n",
       "0  Full week including weekends - Sunday to Satur...   \n",
       "1  Nightly works between 8:00pm and 6:00am. Roadw...   \n",
       "2  other daily works from 08:00 PM to 06:00 AM. R...   \n",
       "3  Full week including weekends - Sunday to Satur...   \n",
       "4  Full week including weekends - Sunday to Satur...   \n",
       "\n",
       "             subject_pref_rdname                     start_pref_rdname  \\\n",
       "0  BULLA-TULLAMARINE OUT RAMP ON              BULLA-CALDER OUT RAMP ON   \n",
       "1                 BALLARAT ROAD                      CHURCHILL AVENUE    \n",
       "2               PRINCES FREEWAY   WEST GATE OUT-WESTERN RING OUT RAMP    \n",
       "3               PRINCES FREEWAY              PRINCES OUT-CLYDE RAMP OF   \n",
       "4           TULLAMARINE FREEWAY                        TERMINAL DRIVE    \n",
       "\n",
       "            ...              works_type traffic_delay speed_limit  \\\n",
       "0           ...             daily works    0 to 5 min          60   \n",
       "1           ...             daily works    0 to 5 min          40   \n",
       "2           ...             daily works    0 to 5 min          40   \n",
       "3           ...             daily works    0 to 5 min          40   \n",
       "4           ...             daily works    0 to 5 min          40   \n",
       "\n",
       "  lanes_affected days_applicable          dt_modified           dt_created  \\\n",
       "0              0   1;2;3;4;5;7;6  2018-08-23T03:17:14  2017-04-27T04:26:23   \n",
       "1              0       1;2;3;4;7  2018-08-16T00:07:44  2018-07-12T01:19:37   \n",
       "2              0     1;2;3;4;5;7  2018-08-14T08:01:17  2017-08-24T06:39:56   \n",
       "3              1   1;2;3;4;5;7;6  2018-07-31T07:51:36  2017-04-21T00:10:02   \n",
       "4              0   1;2;3;4;5;7;6  2018-08-23T12:28:55  2017-05-16T23:19:03   \n",
       "\n",
       "                                    rwe_point            timestamp  \\\n",
       "0  POINT (144.891377840585 -37.7349789489646)  2018-08-23T15:13:28   \n",
       "1  POINT (144.866962705212 -37.7820986383967)  2018-08-23T15:13:28   \n",
       "2  POINT (144.815778656928 -37.8293203711343)  2018-08-23T15:13:28   \n",
       "3  POINT (145.419193781656 -38.0767784375255)  2018-08-23T15:13:28   \n",
       "4  POINT (144.856423788626 -37.6732731477206)  2018-08-23T15:13:28   \n",
       "\n",
       "            processed_time  \n",
       "0  2018-08-23T15:15:30.772  \n",
       "1  2018-08-23T15:15:30.772  \n",
       "2  2018-08-23T15:15:30.772  \n",
       "3  2018-08-23T15:15:30.772  \n",
       "4  2018-08-23T15:15:30.772  \n",
       "\n",
       "[5 rows x 30 columns]"
      ]
     },
     "execution_count": 4,
     "metadata": {},
     "output_type": "execute_result"
    }
   ],
   "source": [
    "data.head()"
   ]
  },
  {
   "cell_type": "code",
   "execution_count": 5,
   "metadata": {
    "collapsed": true
   },
   "outputs": [],
   "source": [
    "data2 = data.drop([\"FID\",\"days_applicable\",\"dt_modified\",\"dt_created\",\"subject_pref_rdname\",\"timestamp\",\"processed_time\"],axis=1)"
   ]
  },
  {
   "cell_type": "code",
   "execution_count": 6,
   "metadata": {},
   "outputs": [
    {
     "name": "stdout",
     "output_type": "stream",
     "text": [
      "<class 'pandas.core.frame.DataFrame'>\n",
      "RangeIndex: 368 entries, 0 to 367\n",
      "Data columns (total 23 columns):\n",
      "rwe_id                368 non-null int64\n",
      "rwe_type              368 non-null object\n",
      "rwe_closure_type      368 non-null object\n",
      "rwe_status            368 non-null object\n",
      "rwe_start_dt          368 non-null object\n",
      "rwe_end_dt            368 non-null object\n",
      "rwe_publish_text      368 non-null object\n",
      "start_pref_rdname     365 non-null object\n",
      "end_pref_rdname       264 non-null object\n",
      "lrs_start_locality    367 non-null object\n",
      "lrs_end_locality      265 non-null object\n",
      "lrs_rmaclass          368 non-null object\n",
      "lrs_srns              240 non-null object\n",
      "lrs_lga               368 non-null object\n",
      "lrs_ses_region        368 non-null object\n",
      "lrs_melway            328 non-null object\n",
      "lrs_vcsd              368 non-null object\n",
      "geom                  368 non-null object\n",
      "works_type            368 non-null object\n",
      "traffic_delay         368 non-null object\n",
      "speed_limit           368 non-null int64\n",
      "lanes_affected        368 non-null int64\n",
      "rwe_point             368 non-null object\n",
      "dtypes: int64(3), object(20)\n",
      "memory usage: 66.2+ KB\n"
     ]
    }
   ],
   "source": [
    "data2.info()"
   ]
  },
  {
   "cell_type": "code",
   "execution_count": 7,
   "metadata": {},
   "outputs": [
    {
     "data": {
      "text/plain": [
       "Index(['rwe_id', 'rwe_type', 'rwe_closure_type', 'rwe_status', 'rwe_start_dt',\n",
       "       'rwe_end_dt', 'rwe_publish_text', 'start_pref_rdname',\n",
       "       'end_pref_rdname', 'lrs_start_locality', 'lrs_end_locality',\n",
       "       'lrs_rmaclass', 'lrs_srns', 'lrs_lga', 'lrs_ses_region', 'lrs_melway',\n",
       "       'lrs_vcsd', 'geom', 'works_type', 'traffic_delay', 'speed_limit',\n",
       "       'lanes_affected', 'rwe_point'],\n",
       "      dtype='object')"
      ]
     },
     "execution_count": 7,
     "metadata": {},
     "output_type": "execute_result"
    }
   ],
   "source": [
    "data2.columns"
   ]
  },
  {
   "cell_type": "code",
   "execution_count": 8,
   "metadata": {},
   "outputs": [
    {
     "data": {
      "text/plain": [
       "(250, 23)"
      ]
     },
     "execution_count": 8,
     "metadata": {},
     "output_type": "execute_result"
    }
   ],
   "source": [
    "data2[data2.lanes_affected != 0].shape"
   ]
  },
  {
   "cell_type": "code",
   "execution_count": 9,
   "metadata": {
    "collapsed": true
   },
   "outputs": [],
   "source": [
    "data3 = data2.drop(['rwe_publish_text','start_pref_rdname',\n",
    "       'end_pref_rdname', 'lrs_start_locality', 'lrs_end_locality',\n",
    "       'lrs_rmaclass', 'lrs_srns', 'lrs_lga', 'lrs_ses_region', 'lrs_melway',\n",
    "       'lrs_vcsd', 'geom', 'works_type', 'speed_limit',],axis =1)"
   ]
  },
  {
   "cell_type": "code",
   "execution_count": 10,
   "metadata": {},
   "outputs": [
    {
     "data": {
      "text/plain": [
       "{'lanes_affected': 0,\n",
       " 'rwe_closure_type': ' entry/exit ramp closed',\n",
       " 'rwe_end_dt': '2018-08-30T19:00:00',\n",
       " 'rwe_id': 160371,\n",
       " 'rwe_point': 'POINT (144.891377840585 -37.7349789489646)',\n",
       " 'rwe_start_dt': '2018-06-28T11:30:00',\n",
       " 'rwe_status': 'Pending',\n",
       " 'rwe_type': 'Road construction',\n",
       " 'traffic_delay': '0 to 5 min'}"
      ]
     },
     "execution_count": 10,
     "metadata": {},
     "output_type": "execute_result"
    }
   ],
   "source": [
    "data3.to_dict(orient='record')[0]"
   ]
  },
  {
   "cell_type": "code",
   "execution_count": 17,
   "metadata": {},
   "outputs": [],
   "source": [
    "geojson = []\n",
    "for i in data3.to_dict(orient='record'):\n",
    "    if i[\"lanes_affected\"] != 0:\n",
    "        point ={\n",
    "            \"type\": 'Feature',\n",
    "            \"geometry\": {\n",
    "            \"type\": 'Point',\n",
    "            \"coordinates\": [float(i['rwe_point'].split(\" \")[1][1:]), float(i['rwe_point'].split(\" \")[2][:-1])]},\n",
    "            \"properties\":{}}\n",
    "        point[\"properties\"] = {\n",
    "            \"title\":i['rwe_id'],\n",
    "            \"description\": i['rwe_closure_type'],\n",
    "            \"image\": 'https://farm9.staticflickr.com/8604/15769066303_3e4dcce464_n.jpg',\n",
    "            \"icon\": {\n",
    "                \"iconUrl\": 'https://www.mapbox.com/mapbox.js/assets/images/astronaut1.png',\n",
    "                \"iconSize\": [10, 10], \n",
    "                \"iconAnchor\": [25, 25], #// point of the icon which will correspond to marker's location\n",
    "                \"popupAnchor\": [0, -25], #// point from which the popup should open relative to the iconAnchor\n",
    "                \"className\": 'dot'\n",
    "              }\n",
    "        }\n",
    "        geojson.append(point)\n",
    "   "
   ]
  },
  {
   "cell_type": "code",
   "execution_count": 18,
   "metadata": {},
   "outputs": [],
   "source": [
    "col =[]\n",
    "for i in geojson:\n",
    "    if len(col) <6:\n",
    "        if i['geometry']['coordinates'][0] >144.948070 and i['geometry']['coordinates'][0] < 144.980588:\n",
    "            if i['geometry']['coordinates'][1] > -37.82475 and i['geometry']['coordinates'][1]<-37.805908:\n",
    "                col.append(i)"
   ]
  },
  {
   "cell_type": "code",
   "execution_count": 19,
   "metadata": {},
   "outputs": [
    {
     "data": {
      "text/plain": [
       "[{'geometry': {'coordinates': [144.979784755893, -37.823913626086],\n",
       "   'type': 'Point'},\n",
       "  'properties': {'description': '2 lanes closed eastbound',\n",
       "   'icon': {'className': 'dot',\n",
       "    'iconAnchor': [25, 25],\n",
       "    'iconSize': [10, 10],\n",
       "    'iconUrl': 'https://www.mapbox.com/mapbox.js/assets/images/astronaut1.png',\n",
       "    'popupAnchor': [0, -25]},\n",
       "   'image': 'https://farm9.staticflickr.com/8604/15769066303_3e4dcce464_n.jpg',\n",
       "   'title': 175779},\n",
       "  'type': 'Feature'},\n",
       " {'geometry': {'coordinates': [144.962175069658, -37.8065795415405],\n",
       "   'type': 'Point'},\n",
       "  'properties': {'description': '2 lanes closed westbound',\n",
       "   'icon': {'className': 'dot',\n",
       "    'iconAnchor': [25, 25],\n",
       "    'iconSize': [10, 10],\n",
       "    'iconUrl': 'https://www.mapbox.com/mapbox.js/assets/images/astronaut1.png',\n",
       "    'popupAnchor': [0, -25]},\n",
       "   'image': 'https://farm9.staticflickr.com/8604/15769066303_3e4dcce464_n.jpg',\n",
       "   'title': 183057},\n",
       "  'type': 'Feature'},\n",
       " {'geometry': {'coordinates': [144.953238904022, -37.8170903106589],\n",
       "   'type': 'Point'},\n",
       "  'properties': {'description': '1 lane closed southbound',\n",
       "   'icon': {'className': 'dot',\n",
       "    'iconAnchor': [25, 25],\n",
       "    'iconSize': [10, 10],\n",
       "    'iconUrl': 'https://www.mapbox.com/mapbox.js/assets/images/astronaut1.png',\n",
       "    'popupAnchor': [0, -25]},\n",
       "   'image': 'https://farm9.staticflickr.com/8604/15769066303_3e4dcce464_n.jpg',\n",
       "   'title': 180700},\n",
       "  'type': 'Feature'},\n",
       " {'geometry': {'coordinates': [144.961877302622, -37.8244280072776],\n",
       "   'type': 'Point'},\n",
       "  'properties': {'description': '2 lanes closed southbound',\n",
       "   'icon': {'className': 'dot',\n",
       "    'iconAnchor': [25, 25],\n",
       "    'iconSize': [10, 10],\n",
       "    'iconUrl': 'https://www.mapbox.com/mapbox.js/assets/images/astronaut1.png',\n",
       "    'popupAnchor': [0, -25]},\n",
       "   'image': 'https://farm9.staticflickr.com/8604/15769066303_3e4dcce464_n.jpg',\n",
       "   'title': 181906},\n",
       "  'type': 'Feature'}]"
      ]
     },
     "execution_count": 19,
     "metadata": {},
     "output_type": "execute_result"
    }
   ],
   "source": [
    "col"
   ]
  },
  {
   "cell_type": "code",
   "execution_count": 49,
   "metadata": {
    "collapsed": true
   },
   "outputs": [],
   "source": [
    "out = json.dumps(test)"
   ]
  },
  {
   "cell_type": "code",
   "execution_count": 51,
   "metadata": {
    "collapsed": true
   },
   "outputs": [],
   "source": [
    "import json\n",
    "from geojson import Point, Feature, FeatureCollection, dump\n",
    "\n",
    "feature_collection = FeatureCollection(test)\n",
    "\n",
    "with open('myfile.geojson', 'w') as f:\n",
    "   dump(feature_collection, f)"
   ]
  },
  {
   "cell_type": "code",
   "execution_count": null,
   "metadata": {
    "collapsed": true
   },
   "outputs": [],
   "source": []
  }
 ],
 "metadata": {
  "kernelspec": {
   "display_name": "Python 3",
   "language": "python",
   "name": "python3"
  },
  "language_info": {
   "codemirror_mode": {
    "name": "ipython",
    "version": 3
   },
   "file_extension": ".py",
   "mimetype": "text/x-python",
   "name": "python",
   "nbconvert_exporter": "python",
   "pygments_lexer": "ipython3",
   "version": "3.6.4"
  }
 },
 "nbformat": 4,
 "nbformat_minor": 2
}
